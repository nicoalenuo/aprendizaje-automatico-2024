{
 "cells": [
  {
   "cell_type": "markdown",
   "metadata": {},
   "source": [
    "# Entrega 1 - Predictor de muerte de pacientes con HIV\n",
    "\n",
    "### Grupo 26:\n",
    "     - Agustín Martínez  C.I 5.074.743-0\n",
    "     - Joaquín Mezquita  C.I 5.239.865-9\n",
    "     - Nicolás Núñez     C.I 5.127.722-0\n",
    "     \n",
    "\n"
   ]
  },
  {
   "cell_type": "markdown",
   "metadata": {},
   "source": [
    "## 1. Objetivo"
   ]
  },
  {
   "cell_type": "markdown",
   "metadata": {},
   "source": [
    "El objetivo de esta tarea es construir un algortimo capaz de predecir la muerte de pacientes bajo observación por HIV utilizando árboles de decisión generados con el algoritmo ID3 visto en el curso. Para ello, utilizaremos el dataset `AIDS Clinical Trials Group Study 175` tomando como valor a predecir el indicador de censura 'cid'. \n",
    "\n",
    "El indicador de censura puede tomar dos valores \"censoring\" o \"failure\". La censura ocurre cuando un valor de una observación solo se conoce parcialmente. \n",
    "\n",
    "En este caso ocurre cuando el experimento termina en un momento determinado, tras el cuál los pacientes todavía vivos quedan todos censurados por la derecha.  \n",
    "\n",
    "Luego del momento de la última observación no se conocen datos sobre la muerte o supervivencia de los pacientes. Por lo que se puede tomar únicamente el caso \"failure\" como la muerte de un paciente.d\n",
    "\n",
    "\n",
    "El éxito del aprendizaje se medirá a traves de las métricas accuracy, precisión, recall y f1, dandole más importancia a la primera y última (podemos tirar algo mas de texto aca)\n"
   ]
  },
  {
   "cell_type": "code",
   "execution_count": 5,
   "metadata": {},
   "outputs": [],
   "source": [
    "import funciones\n",
    "import pandas as pd\n",
    "import matplotlib.pyplot as plt\n",
    "from sklearn.tree import DecisionTreeClassifier\n",
    "from sklearn.ensemble import RandomForestClassifier\n",
    "from sklearn.model_selection import train_test_split\n",
    "\n",
    "# Objetivo a predecir\n",
    "OBJETIVO = 'cid'\n",
    "\n",
    "dataset = pd.read_csv('data.csv')"
   ]
  },
  {
   "cell_type": "markdown",
   "metadata": {},
   "source": [
    "# Linea base y linea máxima\n",
    "\n",
    "Podemos trazar como linea base de nuestro predictor un modelo sencillo el cual siempre predice que el resultado será la clase más probable, y como linea máxima, la implementación de random forest utilizada más adelante."
   ]
  },
  {
   "cell_type": "code",
   "execution_count": 6,
   "metadata": {},
   "outputs": [
    {
     "data": {
      "text/plain": [
       "cid\n",
       "0    1618\n",
       "1     521\n",
       "Name: count, dtype: int64"
      ]
     },
     "execution_count": 6,
     "metadata": {},
     "output_type": "execute_result"
    }
   ],
   "source": [
    "dataset.cid.value_counts()"
   ]
  },
  {
   "cell_type": "markdown",
   "metadata": {},
   "source": [
    "Vemos que el dataset cuenta con 1618 entradas cuyo resultado es 0 (lo que implica que el paciente no murió durante la observación), y 521 cuyo resultado es 1. \n",
    "Tomando esto en cuenta, el predictor simple mencionado anteriormente devolverá que resultado es siempre 0.\n",
    "A continuación se muestran los resultados de un modelo con esta característica."
   ]
  },
  {
   "cell_type": "code",
   "execution_count": 7,
   "metadata": {},
   "outputs": [
    {
     "name": "stdout",
     "output_type": "stream",
     "text": [
      "Accuracy de linea base: 0.7564282374941561\n",
      "Precision de linea base: 0.7564282374941561\n",
      "Recall de linea base: 1.0\n",
      "F1 de linea base: 0.8613255256853872\n"
     ]
    }
   ],
   "source": [
    "Y_predicho = [0] * len(dataset)\n",
    "Y_real = dataset[OBJETIVO]\n",
    "\n",
    "accuracy, precision, recall, f1 = funciones.get_accuracy_precision_recall_f1(Y_real, Y_predicho, objetivo=0)\n",
    "\n",
    "print('Accuracy de linea base:', accuracy)\n",
    "print('Precision de linea base:', precision)\n",
    "print('Recall de linea base:', recall)\n",
    "print('F1 de linea base:', f1)"
   ]
  },
  {
   "cell_type": "markdown",
   "metadata": {},
   "source": [
    "Como era de esperar, el accuracy y precisión son equivalentes a la proporción de entradas cuyo resultado es 0 en el dataset.\n",
    "\n",
    "Por otro lado, y adelantandonos ligeramente sobre los resultados, podemos calcular las mismas métricas sobre la implementación de random forest de la librería scikit-learn, sobre la que entraremos en detalle más adelante."
   ]
  },
  {
   "cell_type": "code",
   "execution_count": 10,
   "metadata": {},
   "outputs": [
    {
     "name": "stdout",
     "output_type": "stream",
     "text": [
      "Accuracy de linea máxima: 0.8925233644859814\n",
      "Precision de linea máxima: 0.9048543689320389\n",
      "Recall de linea máxima: 0.9588477366255144\n",
      "F1 de linea máxima: 0.9310689310689311\n"
     ]
    }
   ],
   "source": [
    "X_librerias = dataset.copy().drop(columns=[OBJETIVO])\n",
    "Y_librerias = dataset[OBJETIVO].copy()\n",
    "\n",
    "X_train_librerias, X_test_librerias, Y_train_librerias, Y_test_librerias = train_test_split(X_librerias, Y_librerias, test_size = 0.3, random_state = 12345, stratify=Y_librerias)\n",
    "\n",
    "RandomForest = RandomForestClassifier(criterion='entropy', random_state=12345)\n",
    "RandomForest.fit(X_train_librerias, Y_train_librerias)\n",
    "Y_predicho_random_forest = RandomForest.predict(X_test_librerias)\n",
    "\n",
    "accuracy, precision, recall, f1 = funciones.get_accuracy_precision_recall_f1(Y_test_librerias, Y_predicho_random_forest, objetivo=0)\n",
    "\n",
    "print('Accuracy de linea máxima:', accuracy)\n",
    "print('Precision de linea máxima:', precision)\n",
    "print('Recall de linea máxima:', recall)\n",
    "print('F1 de linea máxima:', f1)"
   ]
  },
  {
   "cell_type": "markdown",
   "metadata": {},
   "source": [
    "Con estas métricas, se espera que el predictor implementado obtenga resultados intermedios entre ambas lineas trazadas."
   ]
  },
  {
   "cell_type": "markdown",
   "metadata": {},
   "source": [
    "## 2. Diseño del predictor"
   ]
  },
  {
   "cell_type": "markdown",
   "metadata": {},
   "source": [
    "# Preprocesamiento\n",
    "\n",
    "## Discretización del dataset\n",
    "\n",
    "Antes de entrenar el árbol, se discretizan las variables que tomen valores numéricos continuos, o valores discretos dentro de un intervalo amplio. Es decir, para cada atributo a discretizar, se generan rangos, y cada valor es reemplazado por el índice del rango en el que se encuentra, reduciendo así la cantidad de valores distintos que puede tomar cada atributo.\n",
    "\n",
    "Para esto, se buscan los mejores puntos de corte que maximicen la ganancia de información. Primero, se calculan todos los posibles puntos de corte para un atributo y se evalúa cual es su ganancia. Luego, se seleccionan los puntos que generan la mejor ganancia de información, respetando el valor de max_range_split. Finalmente, los valores originales del atributo se reemplazan por el índice del rango al que pertenecen, simplificando así el modelo.\n",
    "\n",
    "Tomando en cuenta las observaciones hechas a las columnas y los valores del dataset, los atributos a discretizar son: \n",
    "\n",
    "- pidnum\n",
    "- time\n",
    "- age\n",
    "- wtkg\n",
    "- karnof\n",
    "- preanti\n",
    "- cd40\n",
    "- cd420\n",
    "- cd80\n",
    "- cd820\n",
    "\n",
    "## Entrenamiento del predictor\n",
    "\n",
    "Para evaluar la precisión del dataset, este es separado en 3 conjuntos (hay que usar evaluacion y ver bien que porcentajes usar)\n",
    "\n",
    "- Entrenamiento / 80%\n",
    "- Validación / 10%\n",
    "- Evaluación / 10%\n",
    "\n"
   ]
  },
  {
   "cell_type": "markdown",
   "metadata": {},
   "source": [
    "## Por ejemplo, para un clasificador:\n",
    "    \n",
    "\n",
    "## 2.1 Preprocesamiento de datos\n",
    "\n",
    "Dado que el conjunto de datos no contiene campos con\n",
    "- Decisiones sobre tratamiento de datos numéricos, faltantes, etc. antes de la aplicación de el algoritmo\n",
    "- Selección/generación de atributos\n",
    "\n",
    "\n",
    "## 2.2 Algoritmo\n",
    "Extensiones del algoritmo original necesarias para la resolución del problema: tratamiento de atributos faltantes, numéricos, etc. (si es el propio algoritmo el que lo maneja), implementaciones adicionales necesarias para manejar ensambles de clasificadores, etc.\n",
    "\n",
    "\n",
    "## 2.3 Evaluación\n",
    "- Qué conjunto de métricas se utilizan para la evaluación de la solución y su definición\n",
    "- Sobre qué conjunto(s) se realiza el entrenamiento, ajuste de la solución, evaluación, etc. Explicar cómo se construyen estos conjuntos."
   ]
  },
  {
   "cell_type": "markdown",
   "metadata": {},
   "source": [
    "## 3. Experimentación"
   ]
  },
  {
   "cell_type": "markdown",
   "metadata": {},
   "source": [
    "- Presentar los distintos experimentos que se realizan y los resultados que se obtienen.\n",
    "\n",
    "- La información de los resultados se presenta en tablas y en gráficos, de acuerdo a su naturaleza. Por ejemplo:\n",
    "\n",
    "_En la gráfica 1, se observa el error cuadrático total del conjunto de entrenamiento a medida que pasan los juegos para el oponente X_"
   ]
  },
  {
   "cell_type": "code",
   "execution_count": 11,
   "metadata": {},
   "outputs": [
    {
     "data": {
      "text/plain": [
       "[<matplotlib.lines.Line2D at 0x1e1a6600f10>]"
      ]
     },
     "execution_count": 11,
     "metadata": {},
     "output_type": "execute_result"
    },
    {
     "data": {
      "image/png": "[encoded data removed]",
      "text/plain": [
       "<Figure size 640x480 with 1 Axes>"
      ]
     },
     "metadata": {},
     "output_type": "display_data"
    }
   ],
   "source": [
    "import matplotlib.pyplot\n",
    "matplotlib.pyplot.plot(range(0,100), [2**-(x/10) for x in range(0,100)])"
   ]
  },
  {
   "cell_type": "markdown",
   "metadata": {},
   "source": [
    "\n",
    "- Debe existir alguna instancia donde se compile la información relevante de los experimentos de forma de poder comparar fácilmente los distintos experimentos. Por ejemplo:\n",
    "\n",
    "_En la tabla 1, se presentan los distintos resultados contra el jugador aleatorio, para los distintos valores de $\\alpha$ elegidos. El mejor resultado se obtiene para $\\alpha=0.05$, lo que prueba que la estrategia..._\n",
    "\n",
    "<table>\n",
    "  <tr>\n",
    "    <th>$\\alpha$</th>\n",
    "    <th>...</th>\n",
    "    <th>Turnos</th>\n",
    "    <th>Error</th>\n",
    "  </tr>\n",
    "  <tr>\n",
    "    <td>0.001</td>\n",
    "    <td>...</td>\n",
    "    <td>100</td>\n",
    "    <td>0.991</td>\n",
    "  </tr>    \n",
    "  <tr>\n",
    "    <td>0.005</td>\n",
    "    <td>...</td>\n",
    "    <td>100</td>\n",
    "    <td>0.987</td>\n",
    "  </tr>\n",
    "  <tr style=\"font-weight:bold\">\n",
    "    <td>0.05</td>\n",
    "    <td>...</td>\n",
    "    <td>100</td>\n",
    "    <td>0.329</td>\n",
    "  </tr>\n",
    "  <tr>\n",
    "    <td>0.5</td>\n",
    "    <td>...</td>\n",
    "    <td>100</td>\n",
    "    <td>0.564</td>\n",
    "  </tr>    \n",
    "    <caption>Tabla 1 - Entrenamiento del jugador X para distintos valores de $\\alpha$</caption>\n",
    "</table>\n"
   ]
  },
  {
   "cell_type": "markdown",
   "metadata": {},
   "source": [
    "# Aca podemos tirar sobre el intervalo de confianza del predictor "
   ]
  },
  {
   "cell_type": "markdown",
   "metadata": {},
   "source": [
    "## 4. Comparación"
   ]
  },
  {
   "cell_type": "markdown",
   "metadata": {},
   "source": [
    "En esta sección se comparara nuetro algoritmo de ID3 contra los algoritmos de la libreria scikit-learn:\n",
    "- DecisionTreeClassifier\n",
    "- RandomForestClassifier\n",
    "\n",
    "En principio, nuestro algoritmo muestra peores resultados que los ya implementados"
   ]
  },
  {
   "cell_type": "markdown",
   "metadata": {},
   "source": [
    "## 5. Conclusión"
   ]
  },
  {
   "cell_type": "markdown",
   "metadata": {},
   "source": []
  },
  {
   "cell_type": "markdown",
   "metadata": {},
   "source": [
    "Una breve conclusión del trabajo realizado. Por ejemplo: \n",
    "- ¿cuándo se dieron los mejores resultados del jugador?\n",
    "- ¿encuentra alguna relación con los parámetros / oponentes/ atributos elegidos?\n",
    "- ¿cómo mejoraría los resultados?"
   ]
  },
  {
   "cell_type": "code",
   "execution_count": null,
   "metadata": {},
   "outputs": [],
   "source": []
  }
 ],
 "metadata": {
  "kernelspec": {
   "display_name": "Python 3",
   "language": "python",
   "name": "python3"
  },
  "language_info": {
   "codemirror_mode": {
    "name": "ipython",
    "version": 3
   },
   "file_extension": ".py",
   "mimetype": "text/x-python",
   "name": "python",
   "nbconvert_exporter": "python",
   "pygments_lexer": "ipython3",
   "version": "3.10.11"
  }
 },
 "nbformat": 4,
 "nbformat_minor": 2
}
